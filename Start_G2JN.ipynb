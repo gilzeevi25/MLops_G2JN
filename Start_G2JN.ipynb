{
  "nbformat": 4,
  "nbformat_minor": 0,
  "metadata": {
    "colab": {
      "provenance": [],
      "authorship_tag": "ABX9TyOBp3rXdXLOOaSRronjOpzU",
      "include_colab_link": true
    },
    "kernelspec": {
      "name": "python3",
      "display_name": "Python 3"
    },
    "language_info": {
      "name": "python"
    }
  },
  "cells": [
    {
      "cell_type": "markdown",
      "metadata": {
        "id": "view-in-github",
        "colab_type": "text"
      },
      "source": [
        "<a href=\"https://colab.research.google.com/github/gilzeevi25/MLops_G2JN/blob/master/Start_G2JN.ipynb\" target=\"_parent\"><img src=\"https://colab.research.google.com/assets/colab-badge.svg\" alt=\"Open In Colab\"/></a>"
      ]
    },
    {
      "cell_type": "markdown",
      "source": [
        "# Install requirements"
      ],
      "metadata": {
        "id": "oJcUgiWRWu2P"
      }
    },
    {
      "cell_type": "code",
      "source": [
        "# %%capture\n",
        "# !python -m pip install -r requirements.txt\n",
        "# import os\n",
        "# os.kill(os.getpid(), 9)\n",
        "%%capture\n",
        "!pip install macest\n",
        "!pip install sdv\n",
        "!pip install pyod"
      ],
      "metadata": {
        "id": "Clogvkc0Wipl"
      },
      "execution_count": 1,
      "outputs": []
    },
    {
      "cell_type": "markdown",
      "source": [
        "If the kernel restarts, run the next cell to engage G2JN"
      ],
      "metadata": {
        "id": "bp1kI96GQguX"
      }
    },
    {
      "cell_type": "markdown",
      "source": [
        "# Import git repo and Engage G2JN"
      ],
      "metadata": {
        "id": "PvdoH7etXCDC"
      }
    },
    {
      "cell_type": "code",
      "execution_count": 2,
      "metadata": {
        "colab": {
          "base_uri": "https://localhost:8080/"
        },
        "id": "Al11I9rrWR42",
        "outputId": "669fc42a-fb64-4089-971e-6fed86eda09e"
      },
      "outputs": [
        {
          "output_type": "stream",
          "name": "stdout",
          "text": [
            "Cloning into 'MLops_G2JN'...\n",
            "remote: Enumerating objects: 192, done.\u001b[K\n",
            "remote: Counting objects: 100% (172/172), done.\u001b[K\n",
            "remote: Compressing objects: 100% (107/107), done.\u001b[K\n",
            "remote: Total 192 (delta 99), reused 110 (delta 65), pack-reused 20\u001b[K\n",
            "Receiving objects: 100% (192/192), 6.57 MiB | 15.49 MiB/s, done.\n",
            "Resolving deltas: 100% (101/101), done.\n",
            "/content/MLops_G2JN\n",
            "Your CPU supports instructions that this binary was not compiled to use: SSE3 SSE4.1 SSE4.2 AVX AVX2\n",
            "For maximum performance, you can install NMSLIB from sources \n",
            "pip install --no-binary :all: nmslib\n",
            "------------------------------------------------------------------------------------------------\n",
            "------------------------------------------------------------------------------------------------\n",
            "------------------------------------------------------------------------------------------------\n",
            "Initializing Pipeline on Boston-Housing dataset...\n",
            "\n",
            "Initial RMSE: 3.48\n",
            "\n",
            "   lower_bound_pred  upper_bound_pred  diff_prop     y_pred\n",
            "0         16.668435         33.156565  16.488129  25.492981\n",
            "1         20.042229         39.553771  19.511543  29.003119\n",
            "2         19.546928         31.193072  11.646145  26.454632\n",
            "3         20.673836         36.687164  16.013328  27.857496\n",
            "4         15.155840         29.102160  13.946320  20.021534\n",
            "5          3.217953         28.520047  25.302094  14.347952\n",
            "6         36.025587         52.148413  16.122826  47.360870\n",
            "7          9.677609         21.006391  11.328782  15.663648\n",
            "8         13.645539         28.750461  15.104922  21.828773\n",
            "9         42.738677         51.808323   9.069647  48.159760 \n",
            "\n",
            "Number of bins in the data: 14\n",
            "\n",
            "Number of bins suspected Low In Data: 6\n",
            "Amount of uncertain bins from MACEst: 9\n",
            "\n",
            " Epistemic    6\n",
            "Aleatoric    4\n",
            "    count_samples  start_bin_value  end_bin_value  suspected_low_in_data_bins uncertainty_type\n",
            "5              93        21.071429      24.285714                       False              NaN\n",
            "4              91        17.857143      21.071429                       False              NaN\n",
            "2              49        11.428571      14.642857                       False              NaN\n",
            "3              48        14.642857      17.857143                       False        Aleatoric\n",
            "6              36        24.285714      27.500000                       False        Aleatoric\n",
            "1              22         8.214286      11.428571                       False        Aleatoric\n",
            "7              22        27.500000      30.714286                       False        Aleatoric\n",
            "8              19        30.714286      33.928571                       False              NaN\n",
            "9              14        33.928571      37.142857                        True        Epistemic\n",
            "13             14        46.785714     500.000000                        True        Epistemic\n",
            "0              12         0.000000       8.214286                        True        Epistemic\n",
            "10              4        37.142857      40.357143                        True        Epistemic\n",
            "11              4        40.357143      43.571429                        True        Epistemic\n",
            "12              2        43.571429      46.785714                        True        Epistemic \n",
            "\n",
            "Total number of samples in bins **before** outliers removal: 430\n",
            "Total number of samples in bins **after** outliers removal: 417\n",
            "Total number of samples in new generated data: 467\n",
            "-------------------------------------------------\n",
            "Initial RMSE: 3.48\n",
            "Improved RMSE: 3.27\n",
            "\n",
            "RMSE improvement rate: 5.93%\n",
            "-------------------------------------------------\n",
            "------------------------------------------------------------------------------------------------\n",
            "------------------------------------------------------------------------------------------------\n",
            "------------------------------------------------------------------------------------------------\n",
            "Initializing Pipeline on French-Motor-claims dataset...\n",
            "\n",
            "Initial RMSE: 5.59\n",
            "\n",
            "   lower_bound_pred  upper_bound_pred  diff_prop    y_pred\n",
            "0         -1.374278          1.854019   3.228298  0.206000\n",
            "1         -0.709907          0.754877   1.464784  0.115614\n",
            "2         -0.845022          1.001936   1.846958  0.148109\n",
            "3         -1.716480          3.361074   5.077554  0.232169\n",
            "4         -1.330299          1.611777   2.942075  0.128422\n",
            "5         -2.538748          2.726248   5.264996  0.064690\n",
            "6         -1.468316          1.687054   3.155371  0.129943\n",
            "7         -1.194424          1.481401   2.675824  0.176093\n",
            "8         -0.994059          1.034059   2.028118  0.093046\n",
            "9         -0.803109          0.856872   1.659981  0.159169 \n",
            "\n",
            "Number of bins in the data: 1000\n",
            "\n",
            "Number of bins suspected Low In Data: 980\n",
            "Amount of uncertain bins from MACEst: 3\n",
            "\n",
            " Epistemic    10\n",
            "Aleatoric     3\n",
            "     count_samples  start_bin_value  end_bin_value  suspected_low_in_data_bins uncertainty_type\n",
            "0           547471            0.000          0.732                       False              NaN\n",
            "1            14099            0.732          1.464                       False              NaN\n",
            "2             4881            1.464          2.196                       False              NaN\n",
            "3             2162            2.196          2.928                       False              NaN\n",
            "4             1323            2.928          3.660                       False        Aleatoric\n",
            "5             1148            3.660          4.392                       False              NaN\n",
            "6              602            4.392          5.124                       False        Aleatoric\n",
            "17             443           12.444         13.176                       False              NaN\n",
            "7              408            5.124          5.856                       False        Aleatoric\n",
            "8              379            5.856          6.588                       False              NaN\n",
            "19             365           13.908         14.640                       False              NaN\n",
            "9              334            6.588          7.320                       False              NaN\n",
            "22             273           16.104         16.836                       False              NaN\n",
            "34             265           24.888         25.620                       False              NaN\n",
            "15             258           10.980         11.712                       False              NaN\n",
            "11             255            8.052          8.784                       False              NaN\n",
            "13             249            9.516         10.248                       False              NaN\n",
            "45             247           32.940         33.672                       False              NaN\n",
            "27             234           19.764         20.496                       False              NaN\n",
            "10             210            7.320          8.052                       False              NaN\n",
            "12             170            8.784          9.516                        True        Epistemic\n",
            "136            159           99.552        100.284                        True        Epistemic\n",
            "68             144           49.776         50.508                        True        Epistemic\n",
            "249             42          182.268        183.000                        True        Epistemic\n",
            "166             42          121.512        122.244                        True        Epistemic\n",
            "499             30          365.268        366.000                        True        Epistemic\n",
            "30              16           21.960         22.692                        True        Epistemic\n",
            "14              13           10.248         10.980                        True        Epistemic\n",
            "39              13           28.548         29.280                        True        Epistemic\n",
            "91              11           66.612         67.344                        True        Epistemic\n",
            "18              10           13.176         13.908                        True              NaN\n",
            "21              10           15.372         16.104                        True              NaN\n",
            "54               8           39.528         40.260                        True              NaN\n",
            "273              7          199.836        200.568                        True              NaN\n",
            "24               6           17.568         18.300                        True              NaN\n",
            "16               3           11.712         12.444                        True              NaN\n",
            "498              3          364.536        365.268                        True              NaN\n",
            "333              2          243.756        244.488                        True              NaN\n",
            "81               2           59.292         60.024                        True              NaN\n",
            "999              2          731.268       7320.000                        True              NaN\n",
            "20               2           14.640         15.372                        True              NaN\n",
            "332              1          243.024        243.756                        True              NaN\n",
            "26               1           19.032         19.764                        True              NaN\n",
            "187              1          136.884        137.616                        True              NaN\n",
            "37               1           27.084         27.816                        True              NaN\n",
            "66               1           48.312         49.044                        True              NaN\n",
            "214              1          156.648        157.380                        True              NaN\n",
            "51               1           37.332         38.064                        True              NaN\n",
            "85               1           62.220         62.952                        True              NaN\n",
            "409              1          299.388        300.120                        True              NaN \n",
            "\n",
            "Total number of samples in bins **before** outliers removal: 576311\n",
            "Total number of samples in bins **after** outliers removal: 576124\n",
            "Total number of samples in new generated data: 576764\n",
            "-------------------------------------------------\n",
            "Initial RMSE: 5.59\n",
            "Improved RMSE: 5.59\n",
            "-------------------------------------------------\n",
            "\n",
            "Elapsed time: 19 minutes 34 seconds\n"
          ]
        }
      ],
      "source": [
        "%load_ext autoreload\n",
        "%autoreload 2\n",
        "!git clone https://github.com/gilzeevi25/MLops_G2JN \n",
        "%cd MLops_G2JN\n",
        "!python main.py "
      ]
    }
  ]
}