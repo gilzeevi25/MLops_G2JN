{
  "nbformat": 4,
  "nbformat_minor": 0,
  "metadata": {
    "colab": {
      "provenance": [],
      "authorship_tag": "ABX9TyOfyd6TLPYFFlA/MiicHEAx",
      "include_colab_link": true
    },
    "kernelspec": {
      "name": "python3",
      "display_name": "Python 3"
    },
    "language_info": {
      "name": "python"
    }
  },
  "cells": [
    {
      "cell_type": "markdown",
      "metadata": {
        "id": "view-in-github",
        "colab_type": "text"
      },
      "source": [
        "<a href=\"https://colab.research.google.com/github/gilzeevi25/MLops_G2JN/blob/master/Start_G2JN.ipynb\" target=\"_parent\"><img src=\"https://colab.research.google.com/assets/colab-badge.svg\" alt=\"Open In Colab\"/></a>"
      ]
    },
    {
      "cell_type": "markdown",
      "source": [
        "# Import github and install requirements"
      ],
      "metadata": {
        "id": "oJcUgiWRWu2P"
      }
    },
    {
      "cell_type": "code",
      "source": [
        "# %%capture\n",
        "# !python -m pip install -r requirements.txt\n",
        "# import os\n",
        "# os.kill(os.getpid(), 9)\n",
        "%%capture\n",
        "!pip install macest\n",
        "!pip install sdv\n",
        "!pip install pyod\n",
        "import os"
      ],
      "metadata": {
        "id": "Clogvkc0Wipl"
      },
      "execution_count": 1,
      "outputs": []
    },
    {
      "cell_type": "markdown",
      "source": [
        "# Engage G2JN"
      ],
      "metadata": {
        "id": "PvdoH7etXCDC"
      }
    },
    {
      "cell_type": "code",
      "execution_count": null,
      "metadata": {
        "colab": {
          "base_uri": "https://localhost:8080/"
        },
        "id": "Al11I9rrWR42",
        "outputId": "a07c3615-b283-4668-d5cd-853ae99e29cb"
      },
      "outputs": [
        {
          "output_type": "stream",
          "name": "stdout",
          "text": [
            "Cloning into 'MLops_G2JN'...\n",
            "remote: Enumerating objects: 20, done.\u001b[K\n",
            "remote: Counting objects: 100% (20/20), done.\u001b[K\n",
            "remote: Compressing objects: 100% (17/17), done.\u001b[K\n",
            "remote: Total 20 (delta 2), reused 20 (delta 2), pack-reused 0\u001b[K\n",
            "Unpacking objects: 100% (20/20), done.\n",
            "/content/MLops_G2JN\n",
            "Your CPU supports instructions that this binary was not compiled to use: SSE3 SSE4.1 SSE4.2 AVX AVX2\n",
            "For maximum performance, you can install NMSLIB from sources \n",
            "pip install --no-binary :all: nmslib\n",
            "\n",
            "--------------------------------\n",
            "--------------------------------\n",
            "--------------------------------\n",
            "\n",
            "Initializing Pipeline on Boston-Housing dataset...\n",
            "\n",
            "Initial RMSE: 3.479232 \n",
            "\n",
            "    count_samples  start_bin_value  end_bin_value  suspected_low_in_data_bins uncertainty_type\n",
            "7              63        20.000000      22.142857                       False              NaN\n",
            "8              62        22.142857      24.285714                       False              NaN\n",
            "6              59        17.857143      20.000000                       False              NaN\n",
            "4              37        13.571429      15.714286                       False              NaN\n",
            "5              32        15.714286      17.857143                       False        Aleatoric\n",
            "3              28        11.428571      13.571429                       False              NaN\n",
            "9              28        24.285714      26.428571                       False        Aleatoric\n",
            "10             15        26.428571      28.571429                       False        Aleatoric\n",
            "11             15        28.571429      30.714286                       False        Aleatoric\n",
            "2              15         9.285714      11.428571                       False        Aleatoric\n",
            "20             14        47.857143     500.000000                        True              NaN\n",
            "1              13         7.142857       9.285714                        True        Epistemic\n",
            "13             13        32.857143      35.000000                        True        Epistemic\n",
            "12             11        30.714286      32.857143                        True              NaN\n",
            "14              9        35.000000      37.142857                        True        Epistemic\n",
            "0               6         0.000000       7.142857                        True              NaN\n",
            "17              4        41.428571      43.571429                        True              NaN\n",
            "15              3        37.142857      39.285714                        True              NaN\n",
            "18              2        43.571429      45.714286                        True              NaN\n",
            "16              1        39.285714      41.428571                        True              NaN\n",
            "19              0        45.714286      47.857143                        True              NaN \n",
            "\n",
            "Total number of samples in bins **before** outliers removal: 430\n",
            "Total number of samples in bins **after** outliers removal: 423\n",
            "Total number of samples in new generated data: 458\n",
            "\n",
            "Initial RMSE: 3.479232\n",
            "\n",
            "Improved RMSE: 3.408730\n",
            "\n",
            "--------------------------------\n",
            "--------------------------------\n",
            "--------------------------------\n",
            "\n",
            "Initializing Pipeline on French-Motor-claims dataset...\n",
            "\n",
            "Initial RMSE: 5.587417 \n",
            "\n"
          ]
        }
      ],
      "source": [
        "%load_ext autoreload\n",
        "%autoreload 2\n",
        "!git clone https://github.com/gilzeevi25/MLops_G2JN \n",
        "%cd MLops_G2JN\n",
        "!python main.py "
      ]
    },
    {
      "cell_type": "code",
      "source": [
        "!python main.py "
      ],
      "metadata": {
        "id": "kRWu3hIDWlVU"
      },
      "execution_count": null,
      "outputs": []
    },
    {
      "cell_type": "code",
      "source": [],
      "metadata": {
        "id": "HTRNDoKsZAOn"
      },
      "execution_count": null,
      "outputs": []
    }
  ]
}